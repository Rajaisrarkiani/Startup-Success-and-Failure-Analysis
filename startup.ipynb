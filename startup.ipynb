{
 "cells": [
  {
   "cell_type": "markdown",
   "metadata": {},
   "source": [
    "# Intoduction"
   ]
  },
  {
   "cell_type": "markdown",
   "metadata": {},
   "source": [
    "### ELT Pipeline and Startup Data Analysis\n",
    "\n",
    "This workbook provides an in-depth analysis of startup data, highlighting success and failure rates across selected countries. Employing the ELT (Extract, Load, Transform) method, the data was first extracted from various sources, loaded into our database, and then transformed to facilitate detailed analysis. SQL queries were utilized to evaluate key metrics such as funding amounts and success rates, calculating success-to-failure ratios rounded to two decimal places.\n",
    "\n",
    "<div align=\"center\">\n",
    "  <img src=\"img/elt_1.png\" alt=\"ELT Pipeline Diagram\" style=\"max-width: 100%; height: auto;\">\n",
    "</div>\n",
    "\n",
    "The included ELT pipeline diagram visually illustrates this process, showcasing how raw data is systematically processed to derive actionable insights. This structured approach enhances our understanding of startup performance, supports data-driven decision-making, and identifies critical trends.\n"
   ]
  },
  {
   "cell_type": "markdown",
   "metadata": {},
   "source": [
    "## Import Required Libraries"
   ]
  },
  {
   "cell_type": "code",
   "execution_count": 1,
   "metadata": {},
   "outputs": [],
   "source": [
    "import kaggle\n",
    "import pandas as pd\n",
    "import sqlalchemy"
   ]
  },
  {
   "cell_type": "markdown",
   "metadata": {},
   "source": [
    "## STEP-1: Extract"
   ]
  },
  {
   "cell_type": "markdown",
   "metadata": {},
   "source": [
    "#### Extract Data through Kaggle API"
   ]
  },
  {
   "cell_type": "code",
   "execution_count": 2,
   "metadata": {},
   "outputs": [
    {
     "name": "stdout",
     "output_type": "stream",
     "text": [
      "Warning: Looks like you're using an outdated API Version, please consider updating (server 1.6.17 / client 1.6.14)\n",
      "Dataset URL: https://www.kaggle.com/datasets/yanmaksi/big-startup-secsees-fail-dataset-from-crunchbase\n",
      "License(s): Community Data License Agreement - Sharing - Version 1.0\n",
      "big_startup_secsees_dataset.csv.zip: Skipping, found more recently modified local copy (use --force to force download)\n"
     ]
    }
   ],
   "source": [
    "!kaggle datasets download yanmaksi/big-startup-secsees-fail-dataset-from-crunchbase -f \"big_startup_secsees_dataset.csv\""
   ]
  },
  {
   "cell_type": "markdown",
   "metadata": {},
   "source": [
    "#### Unzip downloaded file"
   ]
  },
  {
   "cell_type": "code",
   "execution_count": 3,
   "metadata": {},
   "outputs": [],
   "source": [
    "import zipfile\n",
    "zip_ref = zipfile.ZipFile('big_startup_secsees_dataset.csv.zip')\n",
    "zip_ref.extractall()\n",
    "zip_ref.close()"
   ]
  },
  {
   "cell_type": "markdown",
   "metadata": {},
   "source": [
    "#### Check whether data loaded or not"
   ]
  },
  {
   "cell_type": "code",
   "execution_count": 4,
   "metadata": {},
   "outputs": [
    {
     "data": {
      "text/html": [
       "<div>\n",
       "<style scoped>\n",
       "    .dataframe tbody tr th:only-of-type {\n",
       "        vertical-align: middle;\n",
       "    }\n",
       "\n",
       "    .dataframe tbody tr th {\n",
       "        vertical-align: top;\n",
       "    }\n",
       "\n",
       "    .dataframe thead th {\n",
       "        text-align: right;\n",
       "    }\n",
       "</style>\n",
       "<table border=\"1\" class=\"dataframe\">\n",
       "  <thead>\n",
       "    <tr style=\"text-align: right;\">\n",
       "      <th></th>\n",
       "      <th>permalink</th>\n",
       "      <th>name</th>\n",
       "      <th>homepage_url</th>\n",
       "      <th>category_list</th>\n",
       "      <th>funding_total_usd</th>\n",
       "      <th>status</th>\n",
       "      <th>country_code</th>\n",
       "      <th>state_code</th>\n",
       "      <th>region</th>\n",
       "      <th>city</th>\n",
       "      <th>funding_rounds</th>\n",
       "      <th>founded_at</th>\n",
       "      <th>first_funding_at</th>\n",
       "      <th>last_funding_at</th>\n",
       "    </tr>\n",
       "  </thead>\n",
       "  <tbody>\n",
       "    <tr>\n",
       "      <th>0</th>\n",
       "      <td>/organization/-fame</td>\n",
       "      <td>#fame</td>\n",
       "      <td>http://livfame.com</td>\n",
       "      <td>Media</td>\n",
       "      <td>10000000</td>\n",
       "      <td>operating</td>\n",
       "      <td>IND</td>\n",
       "      <td>16</td>\n",
       "      <td>Mumbai</td>\n",
       "      <td>Mumbai</td>\n",
       "      <td>1</td>\n",
       "      <td>NaN</td>\n",
       "      <td>2015-01-05</td>\n",
       "      <td>2015-01-05</td>\n",
       "    </tr>\n",
       "    <tr>\n",
       "      <th>1</th>\n",
       "      <td>/organization/-qounter</td>\n",
       "      <td>:Qounter</td>\n",
       "      <td>http://www.qounter.com</td>\n",
       "      <td>Application Platforms|Real Time|Social Network...</td>\n",
       "      <td>700000</td>\n",
       "      <td>operating</td>\n",
       "      <td>USA</td>\n",
       "      <td>DE</td>\n",
       "      <td>DE - Other</td>\n",
       "      <td>Delaware City</td>\n",
       "      <td>2</td>\n",
       "      <td>2014-09-04</td>\n",
       "      <td>2014-03-01</td>\n",
       "      <td>2014-10-14</td>\n",
       "    </tr>\n",
       "    <tr>\n",
       "      <th>2</th>\n",
       "      <td>/organization/-the-one-of-them-inc-</td>\n",
       "      <td>(THE) ONE of THEM,Inc.</td>\n",
       "      <td>http://oneofthem.jp</td>\n",
       "      <td>Apps|Games|Mobile</td>\n",
       "      <td>3406878</td>\n",
       "      <td>operating</td>\n",
       "      <td>NaN</td>\n",
       "      <td>NaN</td>\n",
       "      <td>NaN</td>\n",
       "      <td>NaN</td>\n",
       "      <td>1</td>\n",
       "      <td>NaN</td>\n",
       "      <td>2014-01-30</td>\n",
       "      <td>2014-01-30</td>\n",
       "    </tr>\n",
       "    <tr>\n",
       "      <th>3</th>\n",
       "      <td>/organization/0-6-com</td>\n",
       "      <td>0-6.com</td>\n",
       "      <td>http://www.0-6.com</td>\n",
       "      <td>Curated Web</td>\n",
       "      <td>2000000</td>\n",
       "      <td>operating</td>\n",
       "      <td>CHN</td>\n",
       "      <td>22</td>\n",
       "      <td>Beijing</td>\n",
       "      <td>Beijing</td>\n",
       "      <td>1</td>\n",
       "      <td>2007-01-01</td>\n",
       "      <td>2008-03-19</td>\n",
       "      <td>2008-03-19</td>\n",
       "    </tr>\n",
       "    <tr>\n",
       "      <th>4</th>\n",
       "      <td>/organization/004-technologies</td>\n",
       "      <td>004 Technologies</td>\n",
       "      <td>http://004gmbh.de/en/004-interact</td>\n",
       "      <td>Software</td>\n",
       "      <td>-</td>\n",
       "      <td>operating</td>\n",
       "      <td>USA</td>\n",
       "      <td>IL</td>\n",
       "      <td>Springfield, Illinois</td>\n",
       "      <td>Champaign</td>\n",
       "      <td>1</td>\n",
       "      <td>2010-01-01</td>\n",
       "      <td>2014-07-24</td>\n",
       "      <td>2014-07-24</td>\n",
       "    </tr>\n",
       "  </tbody>\n",
       "</table>\n",
       "</div>"
      ],
      "text/plain": [
       "                             permalink                    name  \\\n",
       "0                  /organization/-fame                   #fame   \n",
       "1               /organization/-qounter                :Qounter   \n",
       "2  /organization/-the-one-of-them-inc-  (THE) ONE of THEM,Inc.   \n",
       "3                /organization/0-6-com                 0-6.com   \n",
       "4       /organization/004-technologies        004 Technologies   \n",
       "\n",
       "                        homepage_url  \\\n",
       "0                 http://livfame.com   \n",
       "1             http://www.qounter.com   \n",
       "2                http://oneofthem.jp   \n",
       "3                 http://www.0-6.com   \n",
       "4  http://004gmbh.de/en/004-interact   \n",
       "\n",
       "                                       category_list funding_total_usd  \\\n",
       "0                                              Media          10000000   \n",
       "1  Application Platforms|Real Time|Social Network...            700000   \n",
       "2                                  Apps|Games|Mobile           3406878   \n",
       "3                                        Curated Web           2000000   \n",
       "4                                           Software                 -   \n",
       "\n",
       "      status country_code state_code                 region           city  \\\n",
       "0  operating          IND         16                 Mumbai         Mumbai   \n",
       "1  operating          USA         DE             DE - Other  Delaware City   \n",
       "2  operating          NaN        NaN                    NaN            NaN   \n",
       "3  operating          CHN         22                Beijing        Beijing   \n",
       "4  operating          USA         IL  Springfield, Illinois      Champaign   \n",
       "\n",
       "   funding_rounds  founded_at first_funding_at last_funding_at  \n",
       "0               1         NaN       2015-01-05      2015-01-05  \n",
       "1               2  2014-09-04       2014-03-01      2014-10-14  \n",
       "2               1         NaN       2014-01-30      2014-01-30  \n",
       "3               1  2007-01-01       2008-03-19      2008-03-19  \n",
       "4               1  2010-01-01       2014-07-24      2014-07-24  "
      ]
     },
     "execution_count": 4,
     "metadata": {},
     "output_type": "execute_result"
    }
   ],
   "source": [
    "startup = pd.read_csv(\"big_startup_secsees_dataset.csv\")\n",
    "startup.head()"
   ]
  },
  {
   "cell_type": "markdown",
   "metadata": {},
   "source": [
    "## STEP-2: Load"
   ]
  },
  {
   "cell_type": "markdown",
   "metadata": {},
   "source": [
    "#### Load Data to Sql server"
   ]
  },
  {
   "cell_type": "markdown",
   "metadata": {},
   "source": [
    "#### create a connection with SQL SERVER"
   ]
  },
  {
   "cell_type": "code",
   "execution_count": 5,
   "metadata": {},
   "outputs": [],
   "source": [
    "from sqlalchemy import create_engine, exc\n",
    "\n",
    "# Define your connection string\n",
    "conn_str = (\n",
    "    'mssql://HAIER-PC\\SQLEXPRESS/startup?driver=ODBC+Driver+17+for+SQL+Server'\n",
    ")\n",
    "\n",
    "try:\n",
    "    # Create an engine\n",
    "    engine = create_engine(conn_str)\n",
    "    # Test the connection\n",
    "    conn = engine.connect()\n",
    "except exc.SQLAlchemyError as e:\n",
    "    print(\"Error: Could not make connection to Database\")\n",
    "    print(e)\n"
   ]
  },
  {
   "cell_type": "markdown",
   "metadata": {},
   "source": [
    "#### Upload data to SQL SERVER"
   ]
  },
  {
   "cell_type": "code",
   "execution_count": null,
   "metadata": {},
   "outputs": [],
   "source": [
    "startup.to_sql('startup_stage', con=engine, if_exists='append', index=False)\n"
   ]
  },
  {
   "cell_type": "markdown",
   "metadata": {},
   "source": [
    "## STEP-3: TRANSFORM"
   ]
  },
  {
   "cell_type": "markdown",
   "metadata": {},
   "source": [
    "We have uploaded data to sql server and will transform data there."
   ]
  },
  {
   "cell_type": "markdown",
   "metadata": {},
   "source": [
    "1.  **Is data loaded or not**"
   ]
  },
  {
   "cell_type": "markdown",
   "metadata": {},
   "source": [
    "``` SQL\n",
    "    Select * from startup_stage;\n",
    "```"
   ]
  },
  {
   "cell_type": "markdown",
   "metadata": {},
   "source": [
    "output\n",
    "\n",
    "&nbsp;&nbsp;&nbsp;&nbsp;&nbsp;![Structure](img/data_load.png)"
   ]
  },
  {
   "cell_type": "markdown",
   "metadata": {},
   "source": [
    "2.  **Check for Table Schema**"
   ]
  },
  {
   "cell_type": "markdown",
   "metadata": {},
   "source": [
    "``` \n",
    "    SELECT COLUMN_NAME, DATA_TYPE\n",
    "    FROM INFORMATION_SCHEMA.COLUMNS\n",
    "    WHERE TABLE_NAME = 'startup_stage';\n",
    "```"
   ]
  },
  {
   "cell_type": "markdown",
   "metadata": {},
   "source": [
    "&nbsp;&nbsp;&nbsp;&nbsp;&nbsp;output\n",
    "\n",
    "&nbsp;&nbsp;&nbsp;&nbsp;&nbsp;![Structure](img/schema.png)"
   ]
  },
  {
   "cell_type": "markdown",
   "metadata": {},
   "source": [
    "3. **Check for Duplicates**"
   ]
  },
  {
   "cell_type": "markdown",
   "metadata": {},
   "source": [
    "``` SQL\n",
    "    select name, count(*) as dulpicate\n",
    "    from startup_stage\n",
    "    group by name\n",
    "    having count(*) >1;\n",
    "```"
   ]
  },
  {
   "cell_type": "markdown",
   "metadata": {},
   "source": [
    "&nbsp;&nbsp;&nbsp;&nbsp;&nbsp;output\n",
    "\n",
    "&nbsp;&nbsp;&nbsp;&nbsp;&nbsp;![duplicates](img/duplicates.png)"
   ]
  },
  {
   "cell_type": "markdown",
   "metadata": {},
   "source": [
    "4. **Remove Duplicates**"
   ]
  },
  {
   "cell_type": "markdown",
   "metadata": {},
   "source": [
    "``` SQL\n",
    "    WITH CTE AS (\n",
    "        SELECT *,\n",
    "            ROW_NUMBER() OVER (PARTITION BY name ORDER BY CASE WHEN name IS NULL THEN 1 ELSE 0 END) AS row_num\n",
    "        FROM startup_stage\n",
    "    )\n",
    "    -- Delete rows where row number is greater than 1, i.e., duplicates with empty data\n",
    "    DELETE FROM CTE\n",
    "    WHERE row_num > 1;\n",
    "```"
   ]
  },
  {
   "cell_type": "markdown",
   "metadata": {},
   "source": [
    "&nbsp;&nbsp;&nbsp;&nbsp;&nbsp;output\n",
    "\n",
    "&nbsp;&nbsp;&nbsp;&nbsp;&nbsp;![duplicates drop](img/drs.png)"
   ]
  },
  {
   "cell_type": "markdown",
   "metadata": {},
   "source": [
    "5. **Count unique Startups**"
   ]
  },
  {
   "cell_type": "markdown",
   "metadata": {},
   "source": [
    "```SQL\n",
    "    SELECT COUNT(DISTINCT name) AS unique_count\n",
    "    FROM startup_stage;\n",
    "```"
   ]
  },
  {
   "cell_type": "markdown",
   "metadata": {},
   "source": [
    "&nbsp;&nbsp;&nbsp;&nbsp;&nbsp;output\n",
    "\n",
    "&nbsp;&nbsp;&nbsp;&nbsp;&nbsp;![unique](img/unique_1.png)"
   ]
  },
  {
   "cell_type": "markdown",
   "metadata": {},
   "source": [
    "6. **Basic Statistics**"
   ]
  },
  {
   "cell_type": "markdown",
   "metadata": {},
   "source": [
    "```SQL\n",
    "    SELECT \n",
    "        SUM(funding_total_usd) AS total_funding,\n",
    "        AVG(funding_total_usd) AS average_funding,\n",
    "        MIN(funding_total_usd) AS min_funding,\n",
    "        MAX(funding_total_usd) AS max_funding\n",
    "    FROM startup_stage;\n",
    "```"
   ]
  },
  {
   "cell_type": "markdown",
   "metadata": {},
   "source": [
    "&nbsp;&nbsp;&nbsp;&nbsp;&nbsp;output\n",
    "\n",
    "&nbsp;&nbsp;&nbsp;&nbsp;&nbsp;![unique](img/stat_1.png)"
   ]
  },
  {
   "cell_type": "markdown",
   "metadata": {},
   "source": [
    "7. **Top 10 Average Funding Amounts Across Startups**"
   ]
  },
  {
   "cell_type": "markdown",
   "metadata": {},
   "source": [
    "``` SQL\n",
    "    SELECT TOP 10\n",
    "        name,\n",
    "        AVG(funding_total_usd) AS avg_funding_amount\n",
    "    FROM startup_stage\n",
    "    GROUP BY name\n",
    "    order by avg_funding_amount desc;\n",
    "```"
   ]
  },
  {
   "cell_type": "markdown",
   "metadata": {},
   "source": [
    "&nbsp;&nbsp;&nbsp;&nbsp;&nbsp;output\n",
    "\n",
    "&nbsp;&nbsp;&nbsp;&nbsp;&nbsp;![Top 10](img/top.png)"
   ]
  },
  {
   "cell_type": "markdown",
   "metadata": {},
   "source": [
    "8. **Distribution of funding amounts by range**"
   ]
  },
  {
   "cell_type": "markdown",
   "metadata": {},
   "source": [
    "```SQL\n",
    "    SELECT \n",
    "        CASE \n",
    "            WHEN funding_total_usd < 1000000 THEN 'Under 1M'\n",
    "            WHEN funding_total_usd BETWEEN 1000000 AND 5000000 THEN '1M to 5M'\n",
    "            WHEN funding_total_usd BETWEEN 5000000 AND 10000000 THEN '5M to 10M'\n",
    "            ELSE 'Over 10M'\n",
    "        END AS funding_range,\n",
    "        COUNT(*) AS count_startups\n",
    "    FROM startup_stage\n",
    "    GROUP BY \n",
    "        CASE \n",
    "            WHEN funding_total_usd < 1000000 THEN 'Under 1M'\n",
    "            WHEN funding_total_usd BETWEEN 1000000 AND 5000000 THEN '1M to 5M'\n",
    "            WHEN funding_total_usd BETWEEN 5000000 AND 10000000 THEN '5M to 10M'\n",
    "            ELSE 'Over 10M'\n",
    "        END;\n",
    "```"
   ]
  },
  {
   "cell_type": "markdown",
   "metadata": {},
   "source": [
    "&nbsp;&nbsp;&nbsp;&nbsp;&nbsp;output\n",
    "\n",
    "&nbsp;&nbsp;&nbsp;&nbsp;&nbsp;![Top 10](img/distribution_1.png)"
   ]
  },
  {
   "cell_type": "markdown",
   "metadata": {},
   "source": [
    "9. **Count of startups by category**"
   ]
  },
  {
   "cell_type": "markdown",
   "metadata": {},
   "source": [
    "```SQL\n",
    "    SELECT Top 10\n",
    "    category_list, COUNT(*) AS count_startups \n",
    "    FROM startup_stage\n",
    "    GROUP BY category_list\n",
    "    ORDER BY count_startups DESC;\n",
    "```"
   ]
  },
  {
   "cell_type": "markdown",
   "metadata": {},
   "source": [
    "&nbsp;&nbsp;&nbsp;&nbsp;&nbsp;output\n",
    "\n",
    "&nbsp;&nbsp;&nbsp;&nbsp;&nbsp;![Top 10](img/countcc.png)"
   ]
  },
  {
   "cell_type": "markdown",
   "metadata": {},
   "source": [
    "#### Feature Engineering"
   ]
  },
  {
   "cell_type": "markdown",
   "metadata": {},
   "source": [
    "1. **Funding amount per Round**"
   ]
  },
  {
   "cell_type": "markdown",
   "metadata": {},
   "source": [
    "```SQL\n",
    "    SELECT TOP 10\n",
    "        name,\n",
    "        funding_total_usd / funding_rounds AS funding_per_round\n",
    "    FROM startup_stage;\n",
    "```"
   ]
  },
  {
   "cell_type": "markdown",
   "metadata": {},
   "source": [
    "&nbsp;&nbsp;&nbsp;&nbsp;&nbsp;output\n",
    "\n",
    "&nbsp;&nbsp;&nbsp;&nbsp;&nbsp;![Top 10](img/per.png)"
   ]
  },
  {
   "cell_type": "markdown",
   "metadata": {},
   "source": [
    "2.  **Time between funding rounds**"
   ]
  },
  {
   "cell_type": "markdown",
   "metadata": {},
   "source": [
    "```SQL\n",
    "    SELECT TOP 10\n",
    "        name,\n",
    "        DATEDIFF(day, first_funding_at, last_funding_at) / (funding_rounds - 1) AS avg_days_between_rounds\n",
    "    FROM startup_stage\n",
    "    WHERE funding_rounds > 1;\n",
    "```"
   ]
  },
  {
   "cell_type": "markdown",
   "metadata": {},
   "source": [
    "&nbsp;&nbsp;&nbsp;&nbsp;&nbsp;output\n",
    "\n",
    "&nbsp;&nbsp;&nbsp;&nbsp;&nbsp;![Top 10](img/time_bw.png)"
   ]
  },
  {
   "cell_type": "markdown",
   "metadata": {},
   "source": [
    "3. **Count of startups by status for each country**"
   ]
  },
  {
   "cell_type": "markdown",
   "metadata": {},
   "source": [
    "```SQL\n",
    "    SELECT Top 10\n",
    "        country_code,\n",
    "        status,\n",
    "        COUNT(*) AS count_startups\n",
    "    FROM startup_stage\n",
    "    GROUP BY country_code, status\n",
    "    ORDER BY country_code, status;\n",
    "```"
   ]
  },
  {
   "cell_type": "markdown",
   "metadata": {},
   "source": [
    "&nbsp;&nbsp;&nbsp;&nbsp;&nbsp;output\n",
    "\n",
    "&nbsp;&nbsp;&nbsp;&nbsp;&nbsp;![Top 10](img/top_10.png)"
   ]
  },
  {
   "cell_type": "markdown",
   "metadata": {},
   "source": [
    "4. **Select specific country and count startups by status**"
   ]
  },
  {
   "cell_type": "markdown",
   "metadata": {},
   "source": [
    "```SQL\n",
    "    SELECT \n",
    "        country_code,\n",
    "        status,\n",
    "        COUNT(*) AS count_startups\n",
    "    FROM startup_stage\n",
    "    WHERE country_code IN ('PAK', 'IND', 'USA')\n",
    "    GROUP BY country_code, status\n",
    "    ORDER BY country_code, status;\n",
    "```"
   ]
  },
  {
   "cell_type": "markdown",
   "metadata": {},
   "source": [
    "&nbsp;&nbsp;&nbsp;&nbsp;&nbsp;output\n",
    "\n",
    "&nbsp;&nbsp;&nbsp;&nbsp;&nbsp;![Top 10](img/ip.png)"
   ]
  },
  {
   "cell_type": "markdown",
   "metadata": {},
   "source": [
    "1.  **Calculate success to failure rate  for given countries**"
   ]
  },
  {
   "cell_type": "markdown",
   "metadata": {},
   "source": [
    "```SQL\n",
    "WITH status_counts AS (\n",
    "    SELECT \n",
    "        country_code,\n",
    "        status,\n",
    "        COUNT(*) AS count_startups\n",
    "    FROM startup_stage\n",
    "    WHERE country_code IN ('PAK', 'IND', 'USA')\n",
    "    GROUP BY country_code, status\n",
    "),\n",
    "success_failure_counts AS (\n",
    "    SELECT\n",
    "        country_code,\n",
    "        SUM(CASE WHEN status IN ('operating', 'ipo') THEN count_startups ELSE 0 END) AS success_count,\n",
    "        SUM(CASE WHEN status IN ('closed', 'acquired') THEN count_startups ELSE 0 END) AS failure_count\n",
    "    FROM status_counts\n",
    "    GROUP BY country_code\n",
    ")\n",
    "SELECT\n",
    "    country_code,\n",
    "    success_count,\n",
    "    failure_count,\n",
    "    CASE \n",
    "        WHEN failure_count > 0 THEN ROUND(success_count * 1.0 / failure_count, 2)\n",
    "        ELSE NULL\n",
    "    END AS success_to_failure_rate\n",
    "FROM success_failure_counts\n",
    "ORDER BY country_code;\n",
    "```"
   ]
  },
  {
   "cell_type": "markdown",
   "metadata": {},
   "source": [
    "&nbsp;&nbsp;&nbsp;&nbsp;&nbsp;output\n",
    "\n",
    "&nbsp;&nbsp;&nbsp;&nbsp;&nbsp;![Top 10](img/stf.png)"
   ]
  }
 ],
 "metadata": {
  "kernelspec": {
   "display_name": "Python 3",
   "language": "python",
   "name": "python3"
  },
  "language_info": {
   "codemirror_mode": {
    "name": "ipython",
    "version": 3
   },
   "file_extension": ".py",
   "mimetype": "text/x-python",
   "name": "python",
   "nbconvert_exporter": "python",
   "pygments_lexer": "ipython3",
   "version": "3.11.3"
  }
 },
 "nbformat": 4,
 "nbformat_minor": 2
}
